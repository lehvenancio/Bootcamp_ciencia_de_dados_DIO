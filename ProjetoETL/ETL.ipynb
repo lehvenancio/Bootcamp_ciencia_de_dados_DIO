{
  "nbformat": 4,
  "nbformat_minor": 0,
  "metadata": {
    "colab": {
      "provenance": [],
      "authorship_tag": "ABX9TyNnPFGtu6hV4HxTlp8Ar4Yc",
      "include_colab_link": true
    },
    "kernelspec": {
      "name": "python3",
      "display_name": "Python 3"
    },
    "language_info": {
      "name": "python"
    }
  },
  "cells": [
    {
      "cell_type": "markdown",
      "metadata": {
        "id": "view-in-github",
        "colab_type": "text"
      },
      "source": [
        "<a href=\"https://colab.research.google.com/github/lehvenancio/Bootcamp_ciencia_de_dados_DIO/blob/main/ProjetoETL/ETL.ipynb\" target=\"_parent\"><img src=\"https://colab.research.google.com/assets/colab-badge.svg\" alt=\"Open In Colab\"/></a>"
      ]
    },
    {
      "cell_type": "markdown",
      "source": [
        "Extract"
      ],
      "metadata": {
        "id": "JC1a0XhUTaRH"
      }
    },
    {
      "cell_type": "code",
      "source": [
        "!pip install xlsxwriter"
      ],
      "metadata": {
        "colab": {
          "base_uri": "https://localhost:8080/"
        },
        "id": "q9AYB5WRYvyc",
        "outputId": "270d8777-3d7b-4031-c02c-a90ba85ec384"
      },
      "execution_count": 49,
      "outputs": [
        {
          "output_type": "stream",
          "name": "stdout",
          "text": [
            "Collecting xlsxwriter\n",
            "  Using cached XlsxWriter-3.1.2-py3-none-any.whl (153 kB)\n",
            "Installing collected packages: xlsxwriter\n",
            "Successfully installed xlsxwriter-3.1.2\n"
          ]
        }
      ]
    },
    {
      "cell_type": "code",
      "source": [
        "from pandas.core.indexers.objects import timedelta\n",
        "import pandas as pd\n",
        "\n",
        "\n",
        "df = pd.read_excel('Megasena2022.xlsx')\n",
        "\n",
        "df['Data'] = pd.to_datetime(df['Data'], errors='coerce')\n",
        "\n",
        "print(df)\n"
      ],
      "metadata": {
        "id": "YzAFOOfkalOU",
        "colab": {
          "base_uri": "https://localhost:8080/"
        },
        "outputId": "73c3e0f1-774d-43f5-a672-c9e744c4312b"
      },
      "execution_count": 56,
      "outputs": [
        {
          "output_type": "stream",
          "name": "stdout",
          "text": [
            "     Concurso       Data  bola 1  bola 2  bola 3  bola 4  bola 5  bola 6\n",
            "0        2550 2022-12-31      59      34       4      58      10       5\n",
            "1        2549 2022-12-17      30      10      33       1       6      35\n",
            "2        2548 2022-12-14      25      23      29      30       9      15\n",
            "3        2547 2022-10-12      37      10      38      25      31      57\n",
            "4        2546 2022-07-12      34       3      48      28      23      38\n",
            "..        ...        ...     ...     ...     ...     ...     ...     ...\n",
            "105      2445 2022-01-19      25      32      47      11      37      56\n",
            "106      2444 2022-01-15      17      43      20      35      37      15\n",
            "107      2443 2022-12-01      31       1      12      13       5      17\n",
            "108      2442 2022-08-01      49       9       7       2      41      25\n",
            "109      2441 2022-05-01      42       9      41      54      46      47\n",
            "\n",
            "[110 rows x 8 columns]\n"
          ]
        },
        {
          "output_type": "stream",
          "name": "stderr",
          "text": [
            "<ipython-input-56-9c28cddbd166>:7: UserWarning: Parsing dates in DD/MM/YYYY format when dayfirst=False (the default) was specified. This may lead to inconsistently parsed dates! Specify a format to ensure consistent parsing.\n",
            "  df['Data'] = pd.to_datetime(df['Data'], errors='coerce')\n"
          ]
        }
      ]
    },
    {
      "cell_type": "markdown",
      "source": [
        "Transform"
      ],
      "metadata": {
        "id": "LfDcjQuP2kcq"
      }
    },
    {
      "cell_type": "code",
      "source": [
        "df['Mes'] = df['Data'].dt.strftime('%m')\n",
        "df = df[['Concurso', 'Data', 'Mes', 'bola 1', 'bola 2', 'bola 3', 'bola 4', 'bola 5', 'bola 6',]]\n",
        "print(df)"
      ],
      "metadata": {
        "id": "EAdkhOEOgJwS",
        "colab": {
          "base_uri": "https://localhost:8080/"
        },
        "outputId": "bee25295-4b31-4f7c-c4d6-e962aa55139d"
      },
      "execution_count": 57,
      "outputs": [
        {
          "output_type": "stream",
          "name": "stdout",
          "text": [
            "     Concurso       Data Mes  bola 1  bola 2  bola 3  bola 4  bola 5  bola 6\n",
            "0        2550 2022-12-31  12      59      34       4      58      10       5\n",
            "1        2549 2022-12-17  12      30      10      33       1       6      35\n",
            "2        2548 2022-12-14  12      25      23      29      30       9      15\n",
            "3        2547 2022-10-12  10      37      10      38      25      31      57\n",
            "4        2546 2022-07-12  07      34       3      48      28      23      38\n",
            "..        ...        ...  ..     ...     ...     ...     ...     ...     ...\n",
            "105      2445 2022-01-19  01      25      32      47      11      37      56\n",
            "106      2444 2022-01-15  01      17      43      20      35      37      15\n",
            "107      2443 2022-12-01  12      31       1      12      13       5      17\n",
            "108      2442 2022-08-01  08      49       9       7       2      41      25\n",
            "109      2441 2022-05-01  05      42       9      41      54      46      47\n",
            "\n",
            "[110 rows x 9 columns]\n"
          ]
        }
      ]
    },
    {
      "cell_type": "code",
      "source": [
        "janeiro = df.loc[ df['Mes']=='01']\n",
        "fevereiro = df.loc[ df['Mes'] =='02']\n",
        "marco = df.loc[ df['Mes'] =='03']\n",
        "abril = df.loc[ df['Mes'] =='04']\n",
        "maio = df.loc[ df['Mes'] =='05']\n",
        "junho = df.loc[ df['Mes'] =='06']\n",
        "julho = df.loc[ df['Mes'] =='07']\n",
        "agosto = df.loc[ df['Mes'] =='08']\n",
        "setembro = df.loc[ df['Mes'] =='09']\n",
        "outubro = df.loc[ df['Mes'] =='10']\n",
        "novembro = df.loc[ df['Mes'] =='11']\n",
        "dezembro = df.loc[ df['Mes'] =='12']\n"
      ],
      "metadata": {
        "id": "I-Ogxl67BSvx"
      },
      "execution_count": 58,
      "outputs": []
    },
    {
      "cell_type": "code",
      "source": [
        "print(janeiro)\n",
        "print(fevereiro)"
      ],
      "metadata": {
        "colab": {
          "base_uri": "https://localhost:8080/"
        },
        "id": "X7P1CY_XDmnl",
        "outputId": "032531b3-0432-42e6-de0f-3998c144a25b"
      },
      "execution_count": 62,
      "outputs": [
        {
          "output_type": "stream",
          "name": "stdout",
          "text": [
            "     Concurso       Data Mes  bola 1  bola 2  bola 3  bola 4  bola 5  bola 6\n",
            "25       2525 2022-01-10  01      51      47      21      26      13       4\n",
            "101      2449 2022-01-29  01      14      49      52      31      20      21\n",
            "102      2448 2022-01-27  01      32      48      30      40      35      18\n",
            "103      2447 2022-01-25  01      52      13      19      42      49      29\n",
            "104      2446 2022-01-22  01      13      58      51      27       1      41\n",
            "105      2445 2022-01-19  01      25      32      47      11      37      56\n",
            "106      2444 2022-01-15  01      17      43      20      35      37      15\n",
            "     Concurso       Data Mes  bola 1  bola 2  bola 3  bola 4  bola 5  bola 6\n",
            "44       2506 2022-02-08  02      21      44      40      34      22      29\n",
            "53       2497 2022-02-07  02      14       5      48      52      46      23\n",
            "63       2487 2022-02-06  02      54      42      48      36      23      58\n",
            "82       2468 2022-02-04  02      22      41      53      42      35      57\n",
            "92       2458 2022-02-26  02      44      47      15      40      51      45\n",
            "93       2457 2022-02-24  02      50      49      19      47      10      46\n",
            "94       2456 2022-02-22  02      52      41      28      55      40      34\n",
            "95       2455 2022-02-19  02      59      53      38      21      50      56\n",
            "96       2454 2022-02-16  02      14      44      22       9      24      47\n",
            "100      2450 2022-02-02  02      17      39      11       6      15       2\n"
          ]
        }
      ]
    },
    {
      "cell_type": "markdown",
      "source": [
        "Export\n"
      ],
      "metadata": {
        "id": "k7hTibtoWRWp"
      }
    },
    {
      "cell_type": "code",
      "source": [
        "writer = pd.ExcelWriter('resultados_tratados.xlsx', engine='xlsxwriter')\n",
        "\n",
        "janeiro.to_excel(writer, sheet_name='janeiro')\n",
        "fevereiro.to_excel(writer, sheet_name='fevereiro')\n",
        "marco.to_excel(writer, sheet_name='marco')\n",
        "abril.to_excel(writer, sheet_name='abril')\n",
        "maio.to_excel(writer, sheet_name='maio')\n",
        "junho.to_excel(writer, sheet_name='junho')\n",
        "julho.to_excel(writer, sheet_name='julho')\n",
        "agosto.to_excel(writer, sheet_name='agosto')\n",
        "setembro.to_excel(writer, sheet_name='setembro')\n",
        "outubro.to_excel(writer, sheet_name='setembro')\n",
        "novembro.to_excel(writer, sheet_name='novembro')\n",
        "dezembro.to_excel(writer, sheet_name='dezembro')\n",
        "\n",
        "writer.save()"
      ],
      "metadata": {
        "colab": {
          "base_uri": "https://localhost:8080/"
        },
        "id": "OJPPWPvpWWvj",
        "outputId": "308415de-4bb0-4a8f-d358-751b8fb2200b"
      },
      "execution_count": 64,
      "outputs": [
        {
          "output_type": "stream",
          "name": "stderr",
          "text": [
            "<ipython-input-64-1a87ad8596e1>:16: FutureWarning: save is not part of the public API, usage can give unexpected results and will be removed in a future version\n",
            "  writer.save()\n"
          ]
        }
      ]
    }
  ]
}